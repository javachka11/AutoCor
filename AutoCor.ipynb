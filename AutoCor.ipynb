{
  "nbformat": 4,
  "nbformat_minor": 0,
  "metadata": {
    "colab": {
      "provenance": [],
      "authorship_tag": "ABX9TyMowpe74++wOcug3Xh/Vy7B",
      "include_colab_link": true
    },
    "kernelspec": {
      "name": "python3",
      "display_name": "Python 3"
    },
    "language_info": {
      "name": "python"
    }
  },
  "cells": [
    {
      "cell_type": "markdown",
      "metadata": {
        "id": "view-in-github",
        "colab_type": "text"
      },
      "source": [
        "<a href=\"https://colab.research.google.com/github/javachka11/AutoCor/blob/main/AutoCor.ipynb\" target=\"_parent\"><img src=\"https://colab.research.google.com/assets/colab-badge.svg\" alt=\"Open In Colab\"/></a>"
      ]
    },
    {
      "cell_type": "code",
      "source": [
        "import numpy as np\n",
        "import matplotlib.pyplot as plt"
      ],
      "metadata": {
        "id": "Rj152HOu7mgH"
      },
      "execution_count": 1,
      "outputs": []
    },
    {
      "cell_type": "code",
      "source": [
        "#Конгруэнтный генератор Фибоначчи\n",
        "\n",
        "def get_next(x1, x2, m=10):\n",
        "  return (x1 + x2) % (2**m)\n",
        "\n",
        "def get_sequence(n, m, k1, k2, x0):\n",
        "  # n - length of the sequence\n",
        "  # m - power of 2 in the generating formula\n",
        "  # k1 and k2 - lags, k2 >= k1 >= 1\n",
        "  # x0 - initial sequence, should be of length k2\n",
        "  sequence = np.zeros(n)\n",
        "  sequence[0:k2] = x0[0:k2]\n",
        "  for i in range(k2, n):\n",
        "    sequence[i] = get_next(sequence[i - k1], sequence[i - k2], m=m)\n",
        "  return sequence\n",
        "\n",
        "\n",
        "k1 = 24\n",
        "k2 = 55\n",
        "m = 8\n",
        "x0 = np.random.randint(low=0, high=2**m, size=k2)\n",
        "seq = get_sequence(1000, m, k1, k2, x0)\n",
        "\n",
        "#поможет понять, сколько байтов надо выделить для разрядности\n",
        "order = int(max(seq)) // 256 + 1"
      ],
      "metadata": {
        "id": "HIp4UyFq81w2"
      },
      "execution_count": 2,
      "outputs": []
    },
    {
      "cell_type": "code",
      "source": [
        "def bit3_seq(x, mode=1):\n",
        "  assert (x // 8 + 1) <= mode\n",
        "  #переводим число из 10-ной системы в 2-ную систему счисления\n",
        "  arr = list(bin(x))[2:]\n",
        "\n",
        "  #элементы битового списка - строки,\n",
        "  #поэтому переведём их в тип int\n",
        "  arr = np.array(arr, dtype='int8')\n",
        "\n",
        "  #теперь надо добавить нули спереди так, чтобы было ровно 3*mode бит в записи\n",
        "  arr = list(np.zeros(3*mode, dtype='int'))[len(arr):3*mode] + list(arr)\n",
        "  \n",
        "  return np.array(arr)\n",
        "\n",
        "def byte_seq(x, mode=1):\n",
        "  assert (x // 256 + 1) <= mode\n",
        "  #переводим число из 10-ной системы в 2-ную систему счисления\n",
        "  arr = list(bin(x))[2:]\n",
        "\n",
        "  #элементы битового списка - строки,\n",
        "  #поэтому переведём их в тип int\n",
        "  arr = np.array(arr, dtype='int8')\n",
        "\n",
        "  #теперь надо добавить нули спереди так, чтобы было ровно 8*mode бит в записи\n",
        "  arr = list(np.zeros(8*mode, dtype='int'))[len(arr):8*mode] + list(arr)\n",
        "  \n",
        "  return np.array(arr)\n",
        "\n",
        "\n",
        "#нормировка битовой АКФ (1->1, 0->-1)\n",
        "#передаётся сразу вся битовая последовательность\n",
        "def norm_bit(arr):\n",
        "  return 2 * arr - 1\n",
        "\n",
        "#нормировка символьной АКФ\n",
        "#передаётся двоичное представление числа ai\n",
        "def norm_sym(x):\n",
        "  sum = 0\n",
        "  for i in range(len(x)):\n",
        "    sum += (-1)**(x[-i-1]) * 2**i\n",
        "  return sum\n",
        "\n",
        "def cor_splash(arr):\n",
        "  splashes = []\n",
        "  sum = np.sum(arr ** 2)\n",
        "  for j in range(len(arr)+1):\n",
        "    s = 0\n",
        "    for i in range(len(arr)):\n",
        "      s += arr[i]*arr[(i+j) % len(arr)]\n",
        "    splashes.append(s / sum)\n",
        "  return np.array(splashes)"
      ],
      "metadata": {
        "id": "xCSq3Q04BS7j"
      },
      "execution_count": 3,
      "outputs": []
    },
    {
      "cell_type": "code",
      "source": [
        "_rg = np.random.default_rng(1)\n",
        "_arr1 = 256 * _rg.random(10)\n",
        "_arr2 = 256 * _rg.random(1000)"
      ],
      "metadata": {
        "id": "xMyuuaNb8Nlp"
      },
      "execution_count": 4,
      "outputs": []
    },
    {
      "cell_type": "code",
      "source": [
        "def gen(a, b, m, n=1000):\n",
        "  x = []\n",
        "  x.append(2)\n",
        "  for i in range(n):\n",
        "    x.append((a * x[i] + b) % m)\n",
        "  return np.array(x) % 256"
      ],
      "metadata": {
        "id": "fVxNYGENESDq"
      },
      "execution_count": 5,
      "outputs": []
    },
    {
      "cell_type": "code",
      "source": [
        "_g = gen(143, 171, 256)"
      ],
      "metadata": {
        "id": "RLYAo7BqeTt_"
      },
      "execution_count": 6,
      "outputs": []
    },
    {
      "cell_type": "code",
      "source": [
        "def main(ds=1, mode=1):\n",
        "  if ds == 1 and mode == 1:\n",
        "    mode_desc = \"Битовая АКФ для КГФ\"\n",
        "    arr = seq[:10]\n",
        "  elif ds == 1 and mode == 2:\n",
        "    mode_desc = \"Символьная АКФ для КГФ\"\n",
        "    arr = seq[:1000]\n",
        "  elif ds == 2 and mode == 1:\n",
        "    mode_desc = \"Битовая АКФ для np.random.default_rng(1)\"\n",
        "    arr = _arr1\n",
        "  elif ds == 2 and mode == 2:\n",
        "    mode_desc = \"Символьная АКФ для np.random.default_rng(1)\"\n",
        "    arr = _arr2\n",
        "  elif ds == 3 and mode == 1:\n",
        "    mode_desc = \"Битовая АКФ для плохого генератора\"\n",
        "    arr = _g[:10]\n",
        "  elif ds == 3 and mode == 2:\n",
        "    mode_desc = \"Символьная АКФ для плохого генератора\"\n",
        "    arr = _g\n",
        "  \n",
        "  arr = np.array(arr, dtype='int32')\n",
        "  bts = []\n",
        "  for x in arr:\n",
        "    bts.append(byte_seq(x, mode=order))\n",
        "  arr = np.array(bts)\n",
        "  \n",
        "  if mode == 1:\n",
        "    arr = np.reshape(arr, newshape=arr.size)\n",
        "    arr = np.array(list(map(norm_bit, arr)))\n",
        "    cs = cor_splash(arr)\n",
        "  elif mode == 2:\n",
        "    di = np.array(list(map(norm_sym, arr)))\n",
        "    cs = cor_splash(di)\n",
        "\n",
        "  plt.bar(range(len(cs)), cs)\n",
        "  plt.title(mode_desc)\n",
        "  plt.show()"
      ],
      "metadata": {
        "id": "spibykk2gbiW"
      },
      "execution_count": 7,
      "outputs": []
    },
    {
      "cell_type": "code",
      "source": [
        "main(ds=3, mode=2)"
      ],
      "metadata": {
        "colab": {
          "base_uri": "https://localhost:8080/",
          "height": 281
        },
        "id": "9eAHYHc1wzf1",
        "outputId": "30a71e39-8d30-47ec-c340-58f6ef64136d"
      },
      "execution_count": 13,
      "outputs": [
        {
          "output_type": "display_data",
          "data": {
            "text/plain": [
              "<Figure size 432x288 with 1 Axes>"
            ],
            "image/png": "[encoded data removed]"
          },
          "metadata": {
            "needs_background": "light"
          }
        }
      ]
    }
  ]
}